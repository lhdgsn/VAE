{
 "cells": [
  {
   "cell_type": "code",
   "execution_count": 1,
   "metadata": {},
   "outputs": [],
   "source": [
    "import numpy as np\n",
    "import matplotlib.pyplot as plt\n",
    "import torch\n",
    "from VAE import VAE\n",
    "\n",
    "import scanpy as sc\n",
    "\n",
    "import torch.nn.functional as F\n",
    "from torch.utils.data import DataLoader\n",
    "from torchvision.datasets import MNIST\n",
    "import torchvision.transforms as T\n",
    "from torch.optim import lr_scheduler"
   ]
  },
  {
   "cell_type": "markdown",
   "metadata": {},
   "source": [
    "### Binary MNIST"
   ]
  },
  {
   "cell_type": "code",
   "execution_count": 2,
   "metadata": {},
   "outputs": [],
   "source": [
    "# binary MNIST\n",
    "dataset = MNIST('../data/', train=True, download=True,\n",
    "            transform=T.Compose([T.ToTensor(), \\\n",
    "                                 T.Lambda(lambda x: torch.flatten(x)), \n",
    "                                 T.Lambda(lambda x: (x>0.5).float())]), \n",
    "            target_transform=T.Compose([T.Lambda(lambda x: torch.LongTensor([x])), \n",
    "                                        T.Lambda(lambda x: F.one_hot(x,10)), \n",
    "                                        T.Lambda(lambda x: torch.squeeze(x))]))\n",
    "\n",
    "trainloader = DataLoader(dataset, batch_size=128, shuffle=True, drop_last=True)\n",
    "\n",
    "# initialize conditional VAE\n",
    "cvae = VAE(n_features=784, z_dim=32, layer_sizes=[128,128], generative_model='bernoulli', kl_weight=0, n_conditions=10)\n",
    "optimizer = torch.optim.Adam(cvae.parameters(), lr=5e-3)"
   ]
  },
  {
   "cell_type": "code",
   "execution_count": null,
   "metadata": {},
   "outputs": [],
   "source": [
    "n_epoch = 10\n",
    "for epoch in range(n_epoch):\n",
    "    epoch_loss_list = []\n",
    "    for x, label in trainloader:\n",
    "        optimizer.zero_grad()\n",
    "\n",
    "        _, _, loss = cvae.forward(x, condition_labels=label)\n",
    "\n",
    "        loss.backward()\n",
    "        epoch_loss_list.append(loss.detach())\n",
    "\n",
    "        optimizer.step()\n",
    "\n",
    "    print(f'Epoch {epoch+1} mean loss: {np.mean(epoch_loss_list):.4f}')"
   ]
  },
  {
   "cell_type": "code",
   "execution_count": null,
   "metadata": {},
   "outputs": [],
   "source": [
    "for i in range(10):\n",
    "    l = np.zeros((1,10))\n",
    "    l[0,i] = 1\n",
    "    out = cvae.decoder(torch.zeros(1,32), condition_labels=torch.from_numpy(l).float())\n",
    "    plt.figure()\n",
    "    plt.imshow(out[0].detach().reshape(28,28))"
   ]
  },
  {
   "cell_type": "code",
   "execution_count": null,
   "metadata": {},
   "outputs": [],
   "source": [
    "for x, label in trainloader:\n",
    "    f, ax = plt.subplots(ncols=4, figsize=(14,6))\n",
    "    ax[0].imshow(x[0].detach().reshape(-1,28,28)[0])\n",
    "    ax[0].set_title('input')\n",
    "    out = cvae(x, None)\n",
    "    ax[1].imshow(out[1][0].detach().reshape(-1,28,28)[0])\n",
    "    ax[1].set_title('reconstruction probabilities')\n",
    "    ax[2].imshow(out[1][0].detach().reshape(-1,28,28)[0]>0.5)\n",
    "    ax[2].set_title('reconstruction thresholded')\n",
    "    ax[3].imshow(out[0][0].detach().reshape(-1,28,28)[0])\n",
    "    ax[3].set_title('reconstruction sampled')\n",
    "    plt.show()\n",
    "    break"
   ]
  },
  {
   "cell_type": "code",
   "execution_count": null,
   "metadata": {},
   "outputs": [],
   "source": [
    "X = dataset.data.reshape(-1,784).float()\n",
    "\n",
    "labels = dataset.targets"
   ]
  },
  {
   "cell_type": "code",
   "execution_count": null,
   "metadata": {},
   "outputs": [],
   "source": [
    "_ = vae.forward(X)"
   ]
  },
  {
   "cell_type": "code",
   "execution_count": null,
   "metadata": {},
   "outputs": [],
   "source": [
    "import umap\n",
    "import seaborn as sns\n",
    "\n",
    "reducer = umap.UMAP()\n",
    "\n",
    "z_umap = reducer.fit_transform(vae.z.detach())\n",
    "\n",
    "sns.scatterplot(x=z_umap[:,0], y=z_umap[:,1], hue=labels)"
   ]
  }
 ],
 "metadata": {
  "kernelspec": {
   "display_name": "Python 3.9.13 ('torch-mps1')",
   "language": "python",
   "name": "python3"
  },
  "language_info": {
   "codemirror_mode": {
    "name": "ipython",
    "version": 3
   },
   "file_extension": ".py",
   "mimetype": "text/x-python",
   "name": "python",
   "nbconvert_exporter": "python",
   "pygments_lexer": "ipython3",
   "version": "3.9.13"
  },
  "orig_nbformat": 4,
  "vscode": {
   "interpreter": {
    "hash": "c9834a507b49f53d5f3060a808033f8d7505dfb2152e59e308f9ca831cf7a256"
   }
  }
 },
 "nbformat": 4,
 "nbformat_minor": 2
}
