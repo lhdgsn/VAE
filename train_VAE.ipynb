{
 "cells": [
  {
   "cell_type": "code",
   "execution_count": null,
   "metadata": {},
   "outputs": [],
   "source": [
    "import numpy as np\n",
    "import matplotlib.pyplot as plt\n",
    "import torch\n",
    "from VAE import VAE\n",
    "\n",
    "from torch.utils.data import DataLoader\n",
    "from torchvision.datasets import MNIST\n",
    "import torchvision.transforms as T"
   ]
  },
  {
   "cell_type": "code",
   "execution_count": null,
   "metadata": {},
   "outputs": [],
   "source": [
    "dataset = MNIST('../data/', train=True, download=True, transform=T.Compose([T.ToTensor(), T.Lambda(lambda x: torch.flatten(x)), T.Lambda(lambda x: (x>0.5).float())]))\n",
    "\n",
    "trainloader = DataLoader(dataset, batch_size=64, shuffle=True, drop_last=True)"
   ]
  },
  {
   "cell_type": "code",
   "execution_count": null,
   "metadata": {},
   "outputs": [],
   "source": [
    "vae = VAE(n_features=784, z_dim=16, layer_sizes=[128,64], generative_model='bernoulli')\n",
    "optimizer = torch.optim.Adam(vae.parameters())\n",
    "\n",
    "for epoch in range(3):\n",
    "    epoch_loss_list = []\n",
    "    for x, label in trainloader:\n",
    "        optimizer.zero_grad()\n",
    "\n",
    "        _, _, loss = vae.forward(x)\n",
    "\n",
    "        loss.backward()\n",
    "        epoch_loss_list.append(loss.detach())\n",
    "\n",
    "        optimizer.step()\n",
    "    print(np.mean(epoch_loss_list))"
   ]
  },
  {
   "cell_type": "code",
   "execution_count": null,
   "metadata": {},
   "outputs": [],
   "source": [
    "for x, label in trainloader:\n",
    "    plt.figure()\n",
    "    plt.imshow(x[0].detach().reshape(-1,28,28)[0])\n",
    "    plt.figure()\n",
    "    out = vae(x)\n",
    "    plt.imshow(out[1][0].detach().reshape(-1,28,28)[0])\n",
    "    break"
   ]
  }
 ],
 "metadata": {
  "kernelspec": {
   "display_name": "Python 3.9.13 ('torch-mps1')",
   "language": "python",
   "name": "python3"
  },
  "language_info": {
   "codemirror_mode": {
    "name": "ipython",
    "version": 3
   },
   "file_extension": ".py",
   "mimetype": "text/x-python",
   "name": "python",
   "nbconvert_exporter": "python",
   "pygments_lexer": "ipython3",
   "version": "3.9.13"
  },
  "orig_nbformat": 4,
  "vscode": {
   "interpreter": {
    "hash": "c9834a507b49f53d5f3060a808033f8d7505dfb2152e59e308f9ca831cf7a256"
   }
  }
 },
 "nbformat": 4,
 "nbformat_minor": 2
}
