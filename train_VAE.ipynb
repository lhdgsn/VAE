{
 "cells": [
  {
   "cell_type": "code",
   "execution_count": 1,
   "metadata": {},
   "outputs": [],
   "source": [
    "import torch\n",
    "from VAE import VAE\n",
    "\n",
    "from torch.utils.data import DataLoader\n",
    "from torchvision.datasets import MNIST\n",
    "import torchvision.transforms as T"
   ]
  },
  {
   "cell_type": "code",
   "execution_count": 2,
   "metadata": {},
   "outputs": [],
   "source": [
    "dataset = MNIST('../data/', train=True, download=True, transform=T.Compose([T.ToTensor(), T.Lambda(lambda x: torch.flatten(x))]))\n",
    "\n",
    "trainloader = DataLoader(dataset, batch_size=64, shuffle=True, drop_last=True)"
   ]
  },
  {
   "cell_type": "code",
   "execution_count": 4,
   "metadata": {},
   "outputs": [
    {
     "ename": "RuntimeError",
     "evalue": "normal expects all elements of std >= 0.0",
     "output_type": "error",
     "traceback": [
      "\u001b[0;31m---------------------------------------------------------------------------\u001b[0m",
      "\u001b[0;31mRuntimeError\u001b[0m                              Traceback (most recent call last)",
      "\u001b[1;32m/Users/liam/Library/CloudStorage/OneDrive-McGillUniversity/IFT6269/project/sc_AR_VAE/train_VAE.ipynb Cell 3\u001b[0m in \u001b[0;36m<cell line: 4>\u001b[0;34m()\u001b[0m\n\u001b[1;32m      <a href='vscode-notebook-cell:/Users/liam/Library/CloudStorage/OneDrive-McGillUniversity/IFT6269/project/sc_AR_VAE/train_VAE.ipynb#W1sZmlsZQ%3D%3D?line=4'>5</a>\u001b[0m \u001b[39mfor\u001b[39;00m x, label \u001b[39min\u001b[39;00m trainloader:\n\u001b[1;32m      <a href='vscode-notebook-cell:/Users/liam/Library/CloudStorage/OneDrive-McGillUniversity/IFT6269/project/sc_AR_VAE/train_VAE.ipynb#W1sZmlsZQ%3D%3D?line=5'>6</a>\u001b[0m     optimizer\u001b[39m.\u001b[39mzero_grad()\n\u001b[0;32m----> <a href='vscode-notebook-cell:/Users/liam/Library/CloudStorage/OneDrive-McGillUniversity/IFT6269/project/sc_AR_VAE/train_VAE.ipynb#W1sZmlsZQ%3D%3D?line=7'>8</a>\u001b[0m     _, loss \u001b[39m=\u001b[39m vae\u001b[39m.\u001b[39;49mforward(x)\n\u001b[1;32m     <a href='vscode-notebook-cell:/Users/liam/Library/CloudStorage/OneDrive-McGillUniversity/IFT6269/project/sc_AR_VAE/train_VAE.ipynb#W1sZmlsZQ%3D%3D?line=9'>10</a>\u001b[0m     loss\u001b[39m.\u001b[39mbackward()\n\u001b[1;32m     <a href='vscode-notebook-cell:/Users/liam/Library/CloudStorage/OneDrive-McGillUniversity/IFT6269/project/sc_AR_VAE/train_VAE.ipynb#W1sZmlsZQ%3D%3D?line=11'>12</a>\u001b[0m     optimizer\u001b[39m.\u001b[39mstep()\n",
      "File \u001b[0;32m~/Library/CloudStorage/OneDrive-McGillUniversity/IFT6269/project/sc_AR_VAE/VAE.py:196\u001b[0m, in \u001b[0;36mVAE.forward\u001b[0;34m(self, x, condition_labels)\u001b[0m\n\u001b[1;32m    193\u001b[0m generative_model_params \u001b[39m=\u001b[39m \u001b[39mself\u001b[39m\u001b[39m.\u001b[39mdecoder(z)\n\u001b[1;32m    195\u001b[0m \u001b[39m# generate data\u001b[39;00m\n\u001b[0;32m--> 196\u001b[0m x_out \u001b[39m=\u001b[39m \u001b[39mself\u001b[39;49m\u001b[39m.\u001b[39;49mgenerate_data(generative_model_params)\n\u001b[1;32m    198\u001b[0m \u001b[39m# calculate loss\u001b[39;00m\n\u001b[1;32m    199\u001b[0m elbo \u001b[39m=\u001b[39m \u001b[39mself\u001b[39m\u001b[39m.\u001b[39melbo_loss(means, \u001b[39mvars\u001b[39m, x, x_out)\n",
      "File \u001b[0;32m~/Library/CloudStorage/OneDrive-McGillUniversity/IFT6269/project/sc_AR_VAE/VAE.py:148\u001b[0m, in \u001b[0;36mVAE.generate_data\u001b[0;34m(self, params)\u001b[0m\n\u001b[1;32m    145\u001b[0m     \u001b[39mreturn\u001b[39;00m \u001b[39mself\u001b[39m\u001b[39m.\u001b[39mrng\u001b[39m.\u001b[39mbinomial(n\u001b[39m=\u001b[39m\u001b[39m1\u001b[39m, p\u001b[39m=\u001b[39mparams[\u001b[39m0\u001b[39m])\n\u001b[1;32m    147\u001b[0m \u001b[39melif\u001b[39;00m(\u001b[39mself\u001b[39m\u001b[39m.\u001b[39mgenerative_model \u001b[39m==\u001b[39m \u001b[39m'\u001b[39m\u001b[39mgaussian\u001b[39m\u001b[39m'\u001b[39m):\n\u001b[0;32m--> 148\u001b[0m     \u001b[39mreturn\u001b[39;00m torch\u001b[39m.\u001b[39;49mnormal(mean\u001b[39m=\u001b[39;49mparams[\u001b[39m0\u001b[39;49m], std\u001b[39m=\u001b[39;49mparams[\u001b[39m1\u001b[39;49m])\n\u001b[1;32m    150\u001b[0m \u001b[39melif\u001b[39;00m(\u001b[39mself\u001b[39m\u001b[39m.\u001b[39mgenerative_model \u001b[39m==\u001b[39m \u001b[39m'\u001b[39m\u001b[39mnb\u001b[39m\u001b[39m'\u001b[39m):\n\u001b[1;32m    151\u001b[0m     \u001b[39mreturn\u001b[39;00m \u001b[39mself\u001b[39m\u001b[39m.\u001b[39mrng\u001b[39m.\u001b[39mnegative_binomial(n\u001b[39m=\u001b[39mparams[\u001b[39m0\u001b[39m], p\u001b[39m=\u001b[39mparams[\u001b[39m1\u001b[39m])\n",
      "\u001b[0;31mRuntimeError\u001b[0m: normal expects all elements of std >= 0.0"
     ]
    }
   ],
   "source": [
    "vae = VAE(n_features=784, z_dim=16, layer_sizes=[128,64])\n",
    "optimizer = torch.optim.Adam(vae.parameters())\n",
    "\n",
    "for epoch in range(10):\n",
    "    for x, label in trainloader:\n",
    "        optimizer.zero_grad()\n",
    "\n",
    "        _, loss = vae.forward(x)\n",
    "\n",
    "        loss.backward()\n",
    "\n",
    "        optimizer.step()"
   ]
  }
 ],
 "metadata": {
  "kernelspec": {
   "display_name": "Python 3.9.13 ('torch-mps1')",
   "language": "python",
   "name": "python3"
  },
  "language_info": {
   "codemirror_mode": {
    "name": "ipython",
    "version": 3
   },
   "file_extension": ".py",
   "mimetype": "text/x-python",
   "name": "python",
   "nbconvert_exporter": "python",
   "pygments_lexer": "ipython3",
   "version": "3.9.13"
  },
  "orig_nbformat": 4,
  "vscode": {
   "interpreter": {
    "hash": "c9834a507b49f53d5f3060a808033f8d7505dfb2152e59e308f9ca831cf7a256"
   }
  }
 },
 "nbformat": 4,
 "nbformat_minor": 2
}
